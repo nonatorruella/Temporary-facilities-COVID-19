{
 "cells": [
  {
   "cell_type": "code",
   "execution_count": 1,
   "metadata": {},
   "outputs": [],
   "source": [
    "import numpy as np\n",
    "import pandas as pd\n",
    "from itertools import product\n",
    "from math import sqrt\n",
    "import gurobipy as gp\n",
    "from gurobipy import GRB"
   ]
  },
  {
   "cell_type": "markdown",
   "metadata": {},
   "source": [
    "# Read excel file"
   ]
  },
  {
   "cell_type": "code",
   "execution_count": 2,
   "metadata": {},
   "outputs": [
    {
     "data": {
      "text/html": [
       "<div>\n",
       "<style scoped>\n",
       "    .dataframe tbody tr th:only-of-type {\n",
       "        vertical-align: middle;\n",
       "    }\n",
       "\n",
       "    .dataframe tbody tr th {\n",
       "        vertical-align: top;\n",
       "    }\n",
       "\n",
       "    .dataframe thead th {\n",
       "        text-align: right;\n",
       "    }\n",
       "</style>\n",
       "<table border=\"1\" class=\"dataframe\">\n",
       "  <thead>\n",
       "    <tr style=\"text-align: right;\">\n",
       "      <th></th>\n",
       "      <th>0</th>\n",
       "      <th>1</th>\n",
       "      <th>2</th>\n",
       "      <th>3</th>\n",
       "      <th>4</th>\n",
       "      <th>5</th>\n",
       "      <th>6</th>\n",
       "      <th>7</th>\n",
       "      <th>8</th>\n",
       "      <th>9</th>\n",
       "      <th>10</th>\n",
       "    </tr>\n",
       "  </thead>\n",
       "  <tbody>\n",
       "    <tr>\n",
       "      <th>0</th>\n",
       "      <td>DEMAND</td>\n",
       "      <td>NaN</td>\n",
       "      <td>NaN</td>\n",
       "      <td>EXISTING CAPACITY</td>\n",
       "      <td>NaN</td>\n",
       "      <td>NaN</td>\n",
       "      <td>TEMPORARY FACILITIES</td>\n",
       "      <td>NaN</td>\n",
       "      <td>NaN</td>\n",
       "      <td>Cost of building a new facility</td>\n",
       "      <td>500000.0</td>\n",
       "    </tr>\n",
       "    <tr>\n",
       "      <th>1</th>\n",
       "      <td>ABS</td>\n",
       "      <td>Coordinates</td>\n",
       "      <td>Demand</td>\n",
       "      <td>Hospital</td>\n",
       "      <td>Coordinates</td>\n",
       "      <td>Capacity</td>\n",
       "      <td>Facility name</td>\n",
       "      <td>Coordinates</td>\n",
       "      <td>Capacity</td>\n",
       "      <td>Cost of driving the patients / 10km</td>\n",
       "      <td>15.0</td>\n",
       "    </tr>\n",
       "    <tr>\n",
       "      <th>2</th>\n",
       "      <td>CAP RAMBLA (Terrassa)</td>\n",
       "      <td>41.5624, 2.0109</td>\n",
       "      <td>20</td>\n",
       "      <td>Hospital Terrassa</td>\n",
       "      <td>41.5641, 2.0519</td>\n",
       "      <td>50</td>\n",
       "      <td>Pavelló Can Jofresa (Terrassa)</td>\n",
       "      <td>41.5490, 2.0218</td>\n",
       "      <td>30</td>\n",
       "      <td>NaN</td>\n",
       "      <td>NaN</td>\n",
       "    </tr>\n",
       "    <tr>\n",
       "      <th>3</th>\n",
       "      <td>CAP GRÀCIA (Sabadell)</td>\n",
       "      <td>41.5422, 2.1060</td>\n",
       "      <td>12</td>\n",
       "      <td>Hospital Taulí</td>\n",
       "      <td>41.5589, 2.1109</td>\n",
       "      <td>35</td>\n",
       "      <td>Club Natació Sabadell</td>\n",
       "      <td>41.5627, 2.1020</td>\n",
       "      <td>30</td>\n",
       "      <td>NaN</td>\n",
       "      <td>NaN</td>\n",
       "    </tr>\n",
       "    <tr>\n",
       "      <th>4</th>\n",
       "      <td>CAP BARCELONETA (Barcelona)</td>\n",
       "      <td>41.3830, 2.1944</td>\n",
       "      <td>2</td>\n",
       "      <td>Hospital del Mar</td>\n",
       "      <td>41.3906, 2.1927</td>\n",
       "      <td>20</td>\n",
       "      <td>Pavelló Olímpic Badalona</td>\n",
       "      <td>41.4429, 2.2332</td>\n",
       "      <td>40</td>\n",
       "      <td>NaN</td>\n",
       "      <td>NaN</td>\n",
       "    </tr>\n",
       "  </tbody>\n",
       "</table>\n",
       "</div>"
      ],
      "text/plain": [
       "                            0                1       2                  3   \\\n",
       "0                       DEMAND              NaN     NaN  EXISTING CAPACITY   \n",
       "1                          ABS      Coordinates  Demand           Hospital   \n",
       "2        CAP RAMBLA (Terrassa)  41.5624, 2.0109      20  Hospital Terrassa   \n",
       "3        CAP GRÀCIA (Sabadell)  41.5422, 2.1060      12     Hospital Taulí   \n",
       "4  CAP BARCELONETA (Barcelona)  41.3830, 2.1944       2   Hospital del Mar   \n",
       "\n",
       "                4         5                               6                7   \\\n",
       "0              NaN       NaN            TEMPORARY FACILITIES              NaN   \n",
       "1      Coordinates  Capacity                   Facility name      Coordinates   \n",
       "2  41.5641, 2.0519        50  Pavelló Can Jofresa (Terrassa)  41.5490, 2.0218   \n",
       "3  41.5589, 2.1109        35           Club Natació Sabadell  41.5627, 2.1020   \n",
       "4  41.3906, 2.1927        20        Pavelló Olímpic Badalona  41.4429, 2.2332   \n",
       "\n",
       "         8                                    9         10  \n",
       "0       NaN      Cost of building a new facility  500000.0  \n",
       "1  Capacity  Cost of driving the patients / 10km      15.0  \n",
       "2        30                                  NaN       NaN  \n",
       "3        30                                  NaN       NaN  \n",
       "4        40                                  NaN       NaN  "
      ]
     },
     "execution_count": 2,
     "metadata": {},
     "output_type": "execute_result"
    }
   ],
   "source": [
    "filename = 'input_data.xlsx'\n",
    "data = pd.read_excel(filename,header = None)\n",
    "data.head()\n",
    "#sort the data\n",
    "patients_demand = data[[0,1,2]]\n",
    "existing_hospitals = data[[3,4,5]]\n",
    "temporary_facilities = data[[6,7,8]]\n",
    "data.head()"
   ]
  },
  {
   "cell_type": "code",
   "execution_count": 3,
   "metadata": {},
   "outputs": [],
   "source": [
    "def create_dictionary(df):\n",
    "    multidata = dict()\n",
    "    for index,row in df.iterrows():\n",
    "        multidata[index] = [row[1],row[2]]\n",
    "    return multidata"
   ]
  },
  {
   "cell_type": "markdown",
   "metadata": {},
   "source": [
    "### 1. Demand of patients by ABS"
   ]
  },
  {
   "cell_type": "code",
   "execution_count": 4,
   "metadata": {},
   "outputs": [
    {
     "data": {
      "text/html": [
       "<div>\n",
       "<style scoped>\n",
       "    .dataframe tbody tr th:only-of-type {\n",
       "        vertical-align: middle;\n",
       "    }\n",
       "\n",
       "    .dataframe tbody tr th {\n",
       "        vertical-align: top;\n",
       "    }\n",
       "\n",
       "    .dataframe thead th {\n",
       "        text-align: right;\n",
       "    }\n",
       "</style>\n",
       "<table border=\"1\" class=\"dataframe\">\n",
       "  <thead>\n",
       "    <tr style=\"text-align: right;\">\n",
       "      <th>1</th>\n",
       "      <th>ABS</th>\n",
       "      <th>Coordinates</th>\n",
       "      <th>Demand</th>\n",
       "    </tr>\n",
       "  </thead>\n",
       "  <tbody>\n",
       "    <tr>\n",
       "      <th>0</th>\n",
       "      <td>CAP RAMBLA (Terrassa)</td>\n",
       "      <td>41.5624, 2.0109</td>\n",
       "      <td>20</td>\n",
       "    </tr>\n",
       "    <tr>\n",
       "      <th>1</th>\n",
       "      <td>CAP GRÀCIA (Sabadell)</td>\n",
       "      <td>41.5422, 2.1060</td>\n",
       "      <td>12</td>\n",
       "    </tr>\n",
       "    <tr>\n",
       "      <th>2</th>\n",
       "      <td>CAP BARCELONETA (Barcelona)</td>\n",
       "      <td>41.3830, 2.1944</td>\n",
       "      <td>2</td>\n",
       "    </tr>\n",
       "    <tr>\n",
       "      <th>3</th>\n",
       "      <td>CAP PASSEIG MARAGALL (Barcelona)</td>\n",
       "      <td>41.4161, 2.1813</td>\n",
       "      <td>25</td>\n",
       "    </tr>\n",
       "    <tr>\n",
       "      <th>4</th>\n",
       "      <td>CAP EL GUINARDO (Barcelona)</td>\n",
       "      <td>41.4202, 2.1788</td>\n",
       "      <td>10</td>\n",
       "    </tr>\n",
       "  </tbody>\n",
       "</table>\n",
       "</div>"
      ],
      "text/plain": [
       "1                               ABS      Coordinates Demand\n",
       "0             CAP RAMBLA (Terrassa)  41.5624, 2.0109     20\n",
       "1             CAP GRÀCIA (Sabadell)  41.5422, 2.1060     12\n",
       "2       CAP BARCELONETA (Barcelona)  41.3830, 2.1944      2\n",
       "3  CAP PASSEIG MARAGALL (Barcelona)  41.4161, 2.1813     25\n",
       "4       CAP EL GUINARDO (Barcelona)  41.4202, 2.1788     10"
      ]
     },
     "execution_count": 4,
     "metadata": {},
     "output_type": "execute_result"
    }
   ],
   "source": [
    "new_header = patients_demand.iloc[1] #grab the first row for the header\n",
    "patients_demand = patients_demand[2:] #take the data less the header row\n",
    "patients_demand.columns = new_header #set the header row as the df header\n",
    "#demand = demand.set_index(['ABS'])\n",
    "patients_demand = patients_demand.reset_index(drop = True)\n",
    "patients_demand = patients_demand.dropna()\n",
    "patients_demand.head()"
   ]
  },
  {
   "cell_type": "code",
   "execution_count": 5,
   "metadata": {},
   "outputs": [
    {
     "data": {
      "text/plain": [
       "{0: ['41.5624, 2.0109', 20],\n",
       " 1: ['41.5422, 2.1060', 12],\n",
       " 2: ['41.3830, 2.1944', 2],\n",
       " 3: ['41.4161, 2.1813', 25],\n",
       " 4: ['41.4202, 2.1788', 10],\n",
       " 5: ['41.4112, 2.1575', 20],\n",
       " 6: ['41.5624, 2.1065', 30],\n",
       " 7: ['41.5344, 2.1189', 50],\n",
       " 8: ['41.5651, 2.0173', 10],\n",
       " 9: ['41.5621, 1.9846', 25],\n",
       " 10: ['41.3691, 2.1313', 40],\n",
       " 11: ['41.3762, 2.1169', 10],\n",
       " 12: ['41.3591, 2.1161', 10],\n",
       " 13: ['41.4376, 2.2339', 4],\n",
       " 14: ['41.4465, 2.2318', 10],\n",
       " 15: ['41.4617, 2.2416', 35]}"
      ]
     },
     "execution_count": 5,
     "metadata": {},
     "output_type": "execute_result"
    }
   ],
   "source": [
    "dictionary_demand = create_dictionary(patients_demand)\n",
    "dictionary_demand"
   ]
  },
  {
   "cell_type": "code",
   "execution_count": 6,
   "metadata": {},
   "outputs": [
    {
     "data": {
      "text/plain": [
       "{0: 'CAP RAMBLA (Terrassa)',\n",
       " 1: 'CAP GRÀCIA (Sabadell)',\n",
       " 2: 'CAP BARCELONETA (Barcelona)',\n",
       " 3: 'CAP PASSEIG MARAGALL (Barcelona)',\n",
       " 4: 'CAP EL GUINARDO (Barcelona)',\n",
       " 5: 'CAP LARRARD (Barcelona)',\n",
       " 6: 'CAP CREU ALTA (Sabadell)',\n",
       " 7: 'CAP SANT FÈLIX (Sabadell)',\n",
       " 8: 'CAP SANT LLÀTZER (Terrassa)',\n",
       " 9: 'CAP CAN TRIES (Terrassa)',\n",
       " 10: 'CAP SANTA EULÀLIA (Hospitalet)',\n",
       " 11: 'CAP COLLBLANC (Hospitalet)',\n",
       " 12: 'CAP GORNAL (Hospitalet)',\n",
       " 13: 'CAP SANT ROC (Badalona)',\n",
       " 14: 'CAP LA SALUT (Badalona)',\n",
       " 15: 'CAP BUFALÀ (Badalona)'}"
      ]
     },
     "execution_count": 6,
     "metadata": {},
     "output_type": "execute_result"
    }
   ],
   "source": [
    "dictionary_name_abs = patients_demand.ABS.to_dict()\n",
    "dictionary_name_abs"
   ]
  },
  {
   "cell_type": "markdown",
   "metadata": {},
   "source": [
    "### 2. Capacity of existing hospitals"
   ]
  },
  {
   "cell_type": "code",
   "execution_count": 7,
   "metadata": {},
   "outputs": [
    {
     "data": {
      "text/html": [
       "<div>\n",
       "<style scoped>\n",
       "    .dataframe tbody tr th:only-of-type {\n",
       "        vertical-align: middle;\n",
       "    }\n",
       "\n",
       "    .dataframe tbody tr th {\n",
       "        vertical-align: top;\n",
       "    }\n",
       "\n",
       "    .dataframe thead th {\n",
       "        text-align: right;\n",
       "    }\n",
       "</style>\n",
       "<table border=\"1\" class=\"dataframe\">\n",
       "  <thead>\n",
       "    <tr style=\"text-align: right;\">\n",
       "      <th>1</th>\n",
       "      <th>Hospital</th>\n",
       "      <th>Coordinates</th>\n",
       "      <th>Capacity</th>\n",
       "    </tr>\n",
       "  </thead>\n",
       "  <tbody>\n",
       "    <tr>\n",
       "      <th>0</th>\n",
       "      <td>Hospital Terrassa</td>\n",
       "      <td>41.5641, 2.0519</td>\n",
       "      <td>50</td>\n",
       "    </tr>\n",
       "    <tr>\n",
       "      <th>1</th>\n",
       "      <td>Hospital Taulí</td>\n",
       "      <td>41.5589, 2.1109</td>\n",
       "      <td>35</td>\n",
       "    </tr>\n",
       "    <tr>\n",
       "      <th>2</th>\n",
       "      <td>Hospital del Mar</td>\n",
       "      <td>41.3906, 2.1927</td>\n",
       "      <td>20</td>\n",
       "    </tr>\n",
       "    <tr>\n",
       "      <th>3</th>\n",
       "      <td>Hospital de Barcelona</td>\n",
       "      <td>41.5614, 2.0520</td>\n",
       "      <td>12</td>\n",
       "    </tr>\n",
       "    <tr>\n",
       "      <th>4</th>\n",
       "      <td>Hospital Badalona</td>\n",
       "      <td>41.5589, 2.1109</td>\n",
       "      <td>30</td>\n",
       "    </tr>\n",
       "  </tbody>\n",
       "</table>\n",
       "</div>"
      ],
      "text/plain": [
       "1               Hospital      Coordinates Capacity\n",
       "0      Hospital Terrassa  41.5641, 2.0519       50\n",
       "1         Hospital Taulí  41.5589, 2.1109       35\n",
       "2       Hospital del Mar  41.3906, 2.1927       20\n",
       "3  Hospital de Barcelona  41.5614, 2.0520       12\n",
       "4      Hospital Badalona  41.5589, 2.1109       30"
      ]
     },
     "execution_count": 7,
     "metadata": {},
     "output_type": "execute_result"
    }
   ],
   "source": [
    "new_header = existing_hospitals.iloc[1] #grab the first row for the header\n",
    "existing_hospitals = existing_hospitals[2:] #take the data less the header row\n",
    "existing_hospitals.columns = new_header #set the header row as the df header\n",
    "#existing_hospitals = existing_hospitals.set_index(['Hospital'])\n",
    "existing_hospitals = existing_hospitals.reset_index(drop = True)\n",
    "existing_hospitals = existing_hospitals.dropna()\n",
    "existing_hospitals.head()"
   ]
  },
  {
   "cell_type": "code",
   "execution_count": 8,
   "metadata": {},
   "outputs": [
    {
     "data": {
      "text/plain": [
       "{0: ['41.5641, 2.0519', 50],\n",
       " 1: ['41.5589, 2.1109', 35],\n",
       " 2: ['41.3906, 2.1927', 20],\n",
       " 3: ['41.5614, 2.0520', 12],\n",
       " 4: ['41.5589, 2.1109', 30]}"
      ]
     },
     "execution_count": 8,
     "metadata": {},
     "output_type": "execute_result"
    }
   ],
   "source": [
    "dictionary_existing_hospitals = create_dictionary(existing_hospitals)\n",
    "dictionary_existing_hospitals"
   ]
  },
  {
   "cell_type": "code",
   "execution_count": 9,
   "metadata": {},
   "outputs": [],
   "source": [
    "dictionary_name_facilities = existing_hospitals.Hospital.to_dict()"
   ]
  },
  {
   "cell_type": "markdown",
   "metadata": {},
   "source": [
    "### 3. Possible new facilities"
   ]
  },
  {
   "cell_type": "code",
   "execution_count": 10,
   "metadata": {},
   "outputs": [
    {
     "data": {
      "text/html": [
       "<div>\n",
       "<style scoped>\n",
       "    .dataframe tbody tr th:only-of-type {\n",
       "        vertical-align: middle;\n",
       "    }\n",
       "\n",
       "    .dataframe tbody tr th {\n",
       "        vertical-align: top;\n",
       "    }\n",
       "\n",
       "    .dataframe thead th {\n",
       "        text-align: right;\n",
       "    }\n",
       "</style>\n",
       "<table border=\"1\" class=\"dataframe\">\n",
       "  <thead>\n",
       "    <tr style=\"text-align: right;\">\n",
       "      <th>1</th>\n",
       "      <th>Facility name</th>\n",
       "      <th>Coordinates</th>\n",
       "      <th>Capacity</th>\n",
       "    </tr>\n",
       "  </thead>\n",
       "  <tbody>\n",
       "    <tr>\n",
       "      <th>5</th>\n",
       "      <td>Pavelló Can Jofresa (Terrassa)</td>\n",
       "      <td>41.5490, 2.0218</td>\n",
       "      <td>30</td>\n",
       "    </tr>\n",
       "    <tr>\n",
       "      <th>6</th>\n",
       "      <td>Club Natació Sabadell</td>\n",
       "      <td>41.5627, 2.1020</td>\n",
       "      <td>30</td>\n",
       "    </tr>\n",
       "    <tr>\n",
       "      <th>7</th>\n",
       "      <td>Pavelló Olímpic Badalona</td>\n",
       "      <td>41.4429, 2.2332</td>\n",
       "      <td>40</td>\n",
       "    </tr>\n",
       "    <tr>\n",
       "      <th>8</th>\n",
       "      <td>Hotel Marina Barcelona</td>\n",
       "      <td>41.3941, 2.1922</td>\n",
       "      <td>60</td>\n",
       "    </tr>\n",
       "    <tr>\n",
       "      <th>9</th>\n",
       "      <td>Fira de Barcelona</td>\n",
       "      <td>41.3745, 2.1529</td>\n",
       "      <td>200</td>\n",
       "    </tr>\n",
       "  </tbody>\n",
       "</table>\n",
       "</div>"
      ],
      "text/plain": [
       "1                   Facility name      Coordinates Capacity\n",
       "5  Pavelló Can Jofresa (Terrassa)  41.5490, 2.0218       30\n",
       "6           Club Natació Sabadell  41.5627, 2.1020       30\n",
       "7        Pavelló Olímpic Badalona  41.4429, 2.2332       40\n",
       "8          Hotel Marina Barcelona  41.3941, 2.1922       60\n",
       "9               Fira de Barcelona  41.3745, 2.1529      200"
      ]
     },
     "execution_count": 10,
     "metadata": {},
     "output_type": "execute_result"
    }
   ],
   "source": [
    "new_header = temporary_facilities.iloc[1] #grab the first row for the header\n",
    "temporary_facilities = temporary_facilities[2:] #take the data less the header row\n",
    "temporary_facilities.columns = new_header #set the header row as the df header\n",
    "temporary_facilities = temporary_facilities.dropna()\n",
    "indices = [*range(len(dictionary_existing_hospitals),len(dictionary_existing_hospitals)+len(temporary_facilities))]\n",
    "temporary_facilities.index = indices\n",
    "\n",
    "temporary_facilities.head()"
   ]
  },
  {
   "cell_type": "code",
   "execution_count": 11,
   "metadata": {},
   "outputs": [
    {
     "data": {
      "text/plain": [
       "{5: ['41.5490, 2.0218', 30],\n",
       " 6: ['41.5627, 2.1020', 30],\n",
       " 7: ['41.4429, 2.2332', 40],\n",
       " 8: ['41.3941, 2.1922', 60],\n",
       " 9: ['41.3745, 2.1529', 200]}"
      ]
     },
     "execution_count": 11,
     "metadata": {},
     "output_type": "execute_result"
    }
   ],
   "source": [
    "temporary_facilities_dictionary = create_dictionary(temporary_facilities)\n",
    "temporary_facilities_dictionary"
   ]
  },
  {
   "cell_type": "code",
   "execution_count": 12,
   "metadata": {},
   "outputs": [
    {
     "data": {
      "text/plain": [
       "{0: 'Hospital Terrassa',\n",
       " 1: 'Hospital Taulí',\n",
       " 2: 'Hospital del Mar',\n",
       " 3: 'Hospital de Barcelona',\n",
       " 4: 'Hospital Badalona',\n",
       " 5: 'Pavelló Can Jofresa (Terrassa)',\n",
       " 6: 'Club Natació Sabadell',\n",
       " 7: 'Pavelló Olímpic Badalona',\n",
       " 8: 'Hotel Marina Barcelona',\n",
       " 9: 'Fira de Barcelona'}"
      ]
     },
     "execution_count": 12,
     "metadata": {},
     "output_type": "execute_result"
    }
   ],
   "source": [
    "dictionary_name_facilities = {**dictionary_name_facilities,**temporary_facilities['Facility name'].to_dict()} #temporary_facilities['Facility name'].to_dict()\n",
    "dictionary_name_facilities"
   ]
  },
  {
   "cell_type": "markdown",
   "metadata": {},
   "source": [
    "### 4. Cost of building a new facility and cost per 10km to drive patients"
   ]
  },
  {
   "cell_type": "code",
   "execution_count": 13,
   "metadata": {},
   "outputs": [],
   "source": [
    "cost_new_facility =  data.iloc[0,10]\n",
    "cost_drive_patients = data.iloc[1,10]"
   ]
  },
  {
   "cell_type": "markdown",
   "metadata": {},
   "source": [
    "##  Definition of help functions: distance computations and solver"
   ]
  },
  {
   "cell_type": "code",
   "execution_count": 14,
   "metadata": {},
   "outputs": [],
   "source": [
    "def compute_distance(loc1, loc2):\n",
    "    # This function determines the Euclidean distance between a facility and an ABS centroid.\n",
    "    loc1= loc1[1:-1]\n",
    "    loc2= loc2[1:-1]\n",
    "    loc1 = [float(x.strip()) for x in loc1.split(',')]\n",
    "    loc2 = [float(x.strip()) for x in loc2.split(',')]\n",
    "    dx = loc1[0] - loc2[0]\n",
    "    dy = loc1[1] - loc2[1]\n",
    "    return sqrt(dx*dx + dy*dy)"
   ]
  },
  {
   "cell_type": "code",
   "execution_count": 15,
   "metadata": {},
   "outputs": [],
   "source": [
    "# Create a dictionary to capture the coordinates of an ABS and the demand of COVID-19 treatment\n",
    "ABS, c_coordinates, demand  = gp.multidict(dictionary_demand)"
   ]
  },
  {
   "cell_type": "markdown",
   "metadata": {},
   "source": [
    "## Setting parameters"
   ]
  },
  {
   "cell_type": "code",
   "execution_count": 16,
   "metadata": {},
   "outputs": [],
   "source": [
    "# Indices for the ABS\n",
    "ABS = [*range(0,len(dictionary_demand))]\n",
    "# Indices for the facilities\n",
    "facilities = [*range(0,len(dictionary_existing_hospitals)+len(temporary_facilities_dictionary))]\n",
    "\n",
    "#existing facility and capacity of treating COVID-19 patients\n",
    "existing, e_coordinates, e_capacity  = gp.multidict(dictionary_existing_hospitals)\n",
    "\n",
    "#temporary facility and capacity of treating COVID-19 patients\n",
    "temporary, t_coordinates, t_capacity  = gp.multidict(temporary_facilities_dictionary)\n",
    "\n",
    "# Cost of driving 10 km\n",
    "dcost = cost_drive_patients\n",
    "# Cost of building a temporary facility with capacity of COVID-19\n",
    "tfcost = cost_new_facility\n",
    "\n",
    "# Compute key parameters of MIP model formulation\n",
    "f_coordinates = {}\n",
    "for e in existing:\n",
    "    f_coordinates[e] = e_coordinates[e]\n",
    "\n",
    "for t in temporary:\n",
    "    f_coordinates[t] = t_coordinates[t]\n",
    "\n",
    "# Cartesian product of ABS and facilities\n",
    "cf = []\n",
    "\n",
    "for c in ABS:\n",
    "    for f in facilities:\n",
    "        tp = c,f\n",
    "        cf.append(tp)\n",
    "\n",
    "# Compute distances between ABS centroids and facility locations\n",
    "distance = {(c,f): compute_distance(c_coordinates[c], f_coordinates[f]) for c, f in cf}"
   ]
  },
  {
   "cell_type": "markdown",
   "metadata": {},
   "source": [
    "## Open output file"
   ]
  },
  {
   "cell_type": "code",
   "execution_count": 17,
   "metadata": {},
   "outputs": [],
   "source": [
    "import sys\n",
    "\n",
    "orig_stdout = sys.stdout\n",
    "f = open('output_temporary_facilities.txt', 'w')\n",
    "sys.stdout = f"
   ]
  },
  {
   "cell_type": "markdown",
   "metadata": {},
   "source": [
    "## Model MIP\n",
    "\n",
    "### Objective function: Minimize total distance to drive to a COVID-19 facility\n",
    "### ABS demand constraints\n",
    "### Existing facilities capacity constraints\n",
    "### temporary facilities capacity constraints"
   ]
  },
  {
   "cell_type": "code",
   "execution_count": 18,
   "metadata": {},
   "outputs": [
    {
     "name": "stdout",
     "output_type": "stream",
     "text": [
      "Academic license - for non-commercial use only - expires 2021-04-27\n",
      "Using license file C:\\Users\\genon\\gurobi.lic\n",
      "Gurobi Optimizer version 9.1.1 build v9.1.1rc0 (win64)\n",
      "Thread count: 4 physical cores, 8 logical processors, using up to 8 threads\n",
      "Optimize a model with 26 rows, 170 columns and 330 nonzeros\n",
      "Model fingerprint: 0x3abb5719\n",
      "Variable types: 165 continuous, 5 integer (5 binary)\n",
      "Coefficient statistics:\n",
      "  Matrix range     [1e+00, 2e+02]\n",
      "  Objective range  [6e-02, 1e+09]\n",
      "  Bounds range     [1e+00, 1e+00]\n",
      "  RHS range        [2e+00, 5e+01]\n",
      "Presolve time: 0.00s\n",
      "Presolved: 26 rows, 170 columns, 330 nonzeros\n",
      "Variable types: 165 continuous, 5 integer (5 binary)\n",
      "\n",
      "Root relaxation: objective 4.152525e+05, 33 iterations, 0.00 seconds\n",
      "\n",
      "    Nodes    |    Current Node    |     Objective Bounds      |     Work\n",
      " Expl Unexpl |  Obj  Depth IntInf | Incumbent    BestBd   Gap | It/Node Time\n",
      "\n",
      "     0     0 415252.488    0    1          - 415252.488      -     -    0s\n",
      "H    0     0                    500252.48759 415252.488  17.0%     -    0s\n",
      "\n",
      "Explored 1 nodes (33 simplex iterations) in 0.03 seconds\n",
      "Thread count was 8 (of 8 available processors)\n",
      "\n",
      "Solution count 1: 500252 \n",
      "\n",
      "Optimal solution found (tolerance 1.00e-04)\n",
      "Best objective 5.002524875905e+05, best bound 5.002524875905e+05, gap 0.0000%\n"
     ]
    }
   ],
   "source": [
    "m = gp.Model('FACILITY_LOCATION_COVID19')\n",
    "\n",
    "# Build temporary facility\n",
    "y = m.addVars(temporary, vtype=GRB.BINARY, name='temporary')\n",
    "\n",
    "# Assign COVID-19 patients of ABS to facility\n",
    "x = m.addVars(cf, vtype=GRB.CONTINUOUS, name='Assign')\n",
    "\n",
    "# Add capacity to temporary facilities\n",
    "z = m.addVars(temporary, vtype=GRB.CONTINUOUS, name='addCap')\n",
    "\n",
    "# Objective function: Minimize total distance to drive to a COVID-19 facility\n",
    "# Big penalty for adding capacity at a temporary facility\n",
    "penaltyC = 1e9\n",
    "m.setObjective(gp.quicksum(dcost*distance[c,f]*x[c,f] for c,f in cf) \n",
    "               + tfcost*y.sum()\n",
    "               + penaltyC*z.sum(), GRB.MINIMIZE)\n",
    "\n",
    "# ABS demand constraints\n",
    "demandConstrs = m.addConstrs((gp.quicksum(x[c,f] for f in facilities) == demand[c] for c in ABS), \n",
    "                             name='demandConstrs')\n",
    "\n",
    "# Existing facilities capacity constraints\n",
    "existingCapConstrs = m.addConstrs((gp.quicksum(x[c,e]  for c in ABS) <= e_capacity[e] for e in existing ), \n",
    "                                  name='existingCapConstrs')\n",
    "\n",
    "# temporary facilities capacity constraints\n",
    "temporaryCapConstrs = m.addConstrs((gp.quicksum(x[c,t]  for c in ABS) -z[t] \n",
    "                                    <= t_capacity[t]*y[t] for t in temporary ),\n",
    "                                   name='temporaryCapConstrs')\n",
    "# Run optimization engine\n",
    "m.optimize()"
   ]
  },
  {
   "cell_type": "code",
   "execution_count": 19,
   "metadata": {
    "scrolled": false
   },
   "outputs": [
    {
     "name": "stdout",
     "output_type": "stream",
     "text": [
      "\n",
      "\n",
      "_____________Optimal costs______________________\n",
      "The total cost of building COVID-19 temporary healthcare facilities is €500,000.0\n",
      "The total cost of allocating COVID-19 patients to healthcare facilities is $240.0\n",
      "\n",
      "_____________Plan for temporary facilities______________________\n",
      "Build a temporary facility at location Fira de Barcelona\n",
      "\n",
      "_____________Plan to increase Capacity at temporary Facilities______________________\n",
      "\n",
      "_____________Allocation of ABS patients to COVID-19 healthcare facility______________________\n",
      "20 COVID-19 patients from CAP RAMBLA (Terrassa) are treated at facility Hospital Terrassa \n",
      "10 COVID-19 patients from CAP SANT LLÀTZER (Terrassa) are treated at facility Hospital Terrassa \n",
      "20 COVID-19 patients from CAP CAN TRIES (Terrassa) are treated at facility Hospital Terrassa \n",
      "50 is the total number of COVID-19 patients that are treated at facility Hospital Terrassa. \n",
      "\n",
      "________________________________________________________________________________\n",
      "5 COVID-19 patients from CAP GRÀCIA (Sabadell) are treated at facility Hospital Taulí \n",
      "30 COVID-19 patients from CAP SANT FÈLIX (Sabadell) are treated at facility Hospital Taulí \n",
      "35 is the total number of COVID-19 patients that are treated at facility Hospital Taulí. \n",
      "\n",
      "________________________________________________________________________________\n",
      "4 COVID-19 patients from CAP SANT ROC (Badalona) are treated at facility Hospital del Mar \n",
      "10 COVID-19 patients from CAP LA SALUT (Badalona) are treated at facility Hospital del Mar \n",
      "6 COVID-19 patients from CAP BUFALÀ (Badalona) are treated at facility Hospital del Mar \n",
      "20 is the total number of COVID-19 patients that are treated at facility Hospital del Mar. \n",
      "\n",
      "________________________________________________________________________________\n",
      "7 COVID-19 patients from CAP GRÀCIA (Sabadell) are treated at facility Hospital de Barcelona \n",
      "5 COVID-19 patients from CAP CAN TRIES (Terrassa) are treated at facility Hospital de Barcelona \n",
      "12 is the total number of COVID-19 patients that are treated at facility Hospital de Barcelona. \n",
      "\n",
      "________________________________________________________________________________\n",
      "30 COVID-19 patients from CAP CREU ALTA (Sabadell) are treated at facility Hospital Badalona \n",
      "30 is the total number of COVID-19 patients that are treated at facility Hospital Badalona. \n",
      "\n",
      "________________________________________________________________________________\n",
      "2 COVID-19 patients from CAP BARCELONETA (Barcelona) are treated at facility Fira de Barcelona \n",
      "25 COVID-19 patients from CAP PASSEIG MARAGALL (Barcelona) are treated at facility Fira de Barcelona \n",
      "10 COVID-19 patients from CAP EL GUINARDO (Barcelona) are treated at facility Fira de Barcelona \n",
      "20 COVID-19 patients from CAP LARRARD (Barcelona) are treated at facility Fira de Barcelona \n",
      "20 COVID-19 patients from CAP SANT FÈLIX (Sabadell) are treated at facility Fira de Barcelona \n",
      "40 COVID-19 patients from CAP SANTA EULÀLIA (Hospitalet) are treated at facility Fira de Barcelona \n",
      "10 COVID-19 patients from CAP COLLBLANC (Hospitalet) are treated at facility Fira de Barcelona \n",
      "10 COVID-19 patients from CAP GORNAL (Hospitalet) are treated at facility Fira de Barcelona \n",
      "29 COVID-19 patients from CAP BUFALÀ (Badalona) are treated at facility Fira de Barcelona \n",
      "166 is the total number of COVID-19 patients that are treated at facility Fira de Barcelona. \n",
      "\n",
      "________________________________________________________________________________\n",
      "\n",
      "_____________Test demand = supply______________________\n",
      "Total demand is: 313 patients\n",
      "Total demand satisfied is: 313 beds\n"
     ]
    }
   ],
   "source": [
    "# Total cost of building temporary facility locations\n",
    "temporary_facility_cost = 0\n",
    "\n",
    "print(f\"\\n\\n_____________Optimal costs______________________\")\n",
    "for t in temporary:\n",
    "    if (y[t].x > 0.5):\n",
    "        temporary_facility_cost += tfcost*round(y[t].x)\n",
    "\n",
    "patient_allocation_cost = 0\n",
    "for c,f in cf:\n",
    "    if x[c,f].x > 1e-6:\n",
    "        patient_allocation_cost += dcost*round(distance[c,f]*x[c,f].x)\n",
    "\n",
    "print(f\"The total cost of building COVID-19 temporary healthcare facilities is €{temporary_facility_cost:,}\") \n",
    "print(f\"The total cost of allocating COVID-19 patients to healthcare facilities is ${patient_allocation_cost:,}\")  \n",
    "\n",
    "# Build temporary facility at location\n",
    "\n",
    "print(f\"\\n_____________Plan for temporary facilities______________________\")\n",
    "for t in temporary:\n",
    "    if (y[t].x > 0.5):\n",
    "        #print(f\"Build a temporary facility at location {t}\")\n",
    "        t = dictionary_name_facilities[t]\n",
    "        print(f\"Build a temporary facility at location {t}\")\n",
    "\n",
    "# Extra capacity at temporary facilities\n",
    "print(f\"\\n_____________Plan to increase Capacity at temporary Facilities______________________\")\n",
    "for t in temporary:\n",
    "    if (z[t].x > 1e-6):\n",
    "        t = dictionary_name_facilities[t]\n",
    "        print(f\"Increase  temporary facility capacity at location {t} by {round(z[t].x)} beds\")\n",
    "\n",
    "# Demand satisfied at each facility\n",
    "f_demand = {}\n",
    "\n",
    "print(f\"\\n_____________Allocation of ABS patients to COVID-19 healthcare facility______________________\")\n",
    "for f in facilities:\n",
    "    temp = 0\n",
    "    for c in ABS:\n",
    "        allocation = round(x[c,f].x)\n",
    "        if allocation > 0:\n",
    "            f_ = dictionary_name_facilities[f]\n",
    "            c_ = dictionary_name_abs[c]\n",
    "            print(f\"{allocation} COVID-19 patients from {c_} are treated at facility {f_} \") #FROM ABS\n",
    "        temp += allocation\n",
    "    f_demand[f] = temp\n",
    "    \n",
    "    if temp > 0:\n",
    "        print(f\"{temp} is the total number of COVID-19 patients that are treated at facility {f_}. \")\n",
    "        print(f\"\\n________________________________________________________________________________\")\n",
    "\n",
    "# Test total demand = total demand satisfied by facilities\n",
    "total_demand = 0\n",
    "\n",
    "for c in ABS:\n",
    "    total_demand += demand[c]\n",
    "\n",
    "demand_satisfied = 0\n",
    "for f in facilities:\n",
    "    demand_satisfied += f_demand[f]\n",
    "\n",
    "print(f\"\\n_____________Test demand = supply______________________\")\n",
    "print(f\"Total demand is: {total_demand:,} patients\")\n",
    "print(f\"Total demand satisfied is: {demand_satisfied:,} beds\")"
   ]
  },
  {
   "cell_type": "markdown",
   "metadata": {},
   "source": [
    "##  References\n",
    "[1] Katherine Klise and Michael Bynum. *Facility Location Optimization Model for COVID-19 Resources*. April 2020. Joint DOE Laboratory Pandemic Modeling and Analysis Capability. SAND2020-4693R."
   ]
  }
 ],
 "metadata": {
  "kernelspec": {
   "display_name": "enviA4SG",
   "language": "python",
   "name": "envia4sg"
  },
  "language_info": {
   "codemirror_mode": {
    "name": "ipython",
    "version": 3
   },
   "file_extension": ".py",
   "mimetype": "text/x-python",
   "name": "python",
   "nbconvert_exporter": "python",
   "pygments_lexer": "ipython3",
   "version": "3.8.5"
  }
 },
 "nbformat": 4,
 "nbformat_minor": 4
}
